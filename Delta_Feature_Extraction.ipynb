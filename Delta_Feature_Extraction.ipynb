{
 "cells": [
  {
   "cell_type": "code",
   "execution_count": 8,
   "id": "5aff84ce",
   "metadata": {},
   "outputs": [],
   "source": [
    "import librosa\n",
    "import numpy as np\n",
    "\n",
    "# Load the speech signal\n",
    "audio_path = 'C:/Users/LOKESH PAPPU/Desktop/NITW/day 11/Dataset Child/Male/M1_01_01.wav'\n",
    "signal, sr = librosa.load(audio_path, sr=None)\n",
    "\n",
    "# Extract MFCC features\n",
    "mfccs = np.mean(librosa.feature.mfcc(y=signal, sr=sr, n_mfcc=13).T,axis=0)\n",
    "\n",
    "# Calculate delta features from MFCCs\n",
    "delta_mfccs = librosa.feature.delta(mfccs)\n",
    "\n",
    "# Calculate double delta features from MFCCs\n",
    "double_delta_mfccs = librosa.feature.delta(mfccs, order=2)"
   ]
  },
  {
   "cell_type": "code",
   "execution_count": 9,
   "id": "0b554e84",
   "metadata": {},
   "outputs": [
    {
     "data": {
      "text/plain": [
       "array([-321.48428  ,  138.27592  ,  -42.382725 ,   44.0637   ,\n",
       "         29.19823  ,  -39.959347 ,   -5.1629806,  -10.538185 ,\n",
       "        -27.698563 ,   -3.9156234,  -12.63732  ,  -14.6006   ,\n",
       "         -1.7011904], dtype=float32)"
      ]
     },
     "execution_count": 9,
     "metadata": {},
     "output_type": "execute_result"
    }
   ],
   "source": [
    "mfccs"
   ]
  },
  {
   "cell_type": "code",
   "execution_count": 10,
   "id": "aaddca98",
   "metadata": {},
   "outputs": [
    {
     "data": {
      "text/plain": [
       "array([ 11.985283 ,  11.985283 ,  11.985283 ,  11.985283 ,  11.985283 ,\n",
       "       -11.137979 ,  -1.8221463,  -5.1768665,  -0.9307927,  -0.9307927,\n",
       "        -0.9307927,  -0.9307927,  -0.9307927], dtype=float32)"
      ]
     },
     "execution_count": 10,
     "metadata": {},
     "output_type": "execute_result"
    }
   ],
   "source": [
    "delta_mfccs"
   ]
  },
  {
   "cell_type": "code",
   "execution_count": 11,
   "id": "9d519cde",
   "metadata": {},
   "outputs": [
    {
     "data": {
      "text/plain": [
       "array([-19.818893 , -19.818893 , -19.818893 , -19.818893 , -19.818893 ,\n",
       "         7.3461103,  -0.6705723,   4.4616947,   2.8789737,   2.8789737,\n",
       "         2.8789737,   2.8789737,   2.8789737], dtype=float32)"
      ]
     },
     "execution_count": 11,
     "metadata": {},
     "output_type": "execute_result"
    }
   ],
   "source": [
    "double_delta_mfccs"
   ]
  },
  {
   "cell_type": "code",
   "execution_count": null,
   "id": "a6bd0621",
   "metadata": {},
   "outputs": [],
   "source": [
    "\n",
    "\n",
    "\n"
   ]
  },
  {
   "cell_type": "code",
   "execution_count": 28,
   "id": "a81704a8",
   "metadata": {},
   "outputs": [],
   "source": [
    "import librosa\n",
    "import numpy as np\n",
    "import os\n",
    "\n",
    "# Directory path containing the audio files\n",
    "directory = 'C:/Users/LOKESH PAPPU/Desktop/NITW/day 11/Dataset Child/Male/'\n",
    "# Initialize a list to store the features\n",
    "features_list = []\n"
   ]
  },
  {
   "cell_type": "code",
   "execution_count": 30,
   "id": "b61300d4",
   "metadata": {},
   "outputs": [],
   "source": [
    "# Iterate over the files in the directory\n",
    "for filename in os.listdir(directory):\n",
    "    if filename.endswith('.wav'):\n",
    "        # Load the audio signal\n",
    "        audio_path = os.path.join(directory, filename)\n",
    "        signal, sr = librosa.load(audio_path, sr=None)\n",
    "\n",
    "        # Extract MFCC features\n",
    "        mfccs = np.mean(librosa.feature.mfcc(y=signal, sr=sr, n_mfcc=13).T,axis=0)\n",
    "\n",
    "        # Calculate delta features from MFCCs\n",
    "        delta_mfccs = librosa.feature.delta(mfccs)\n",
    "\n",
    "        # Calculate double delta features from MFCCs\n",
    "        double_delta_mfccs = librosa.feature.delta(mfccs, order=2)\n",
    "\n",
    "       \n",
    "\n",
    "        # Concatenate the renamed features\n",
    "        features = np.concatenate((mfccs, delta_mfccs, double_delta_mfccs),axis=0)\n",
    "        # Append the features to the list\n",
    "        features_list.append(features)\n"
   ]
  },
  {
   "cell_type": "code",
   "execution_count": 36,
   "id": "10d8a4b6",
   "metadata": {},
   "outputs": [],
   "source": [
    "import pandas as pd\n",
    "df=pd.DataFrame(features_list)\n",
    "df[\"gender\"]=\"male\"\n",
    "df[\"label\"]=\"child\"\n",
    "df.to_csv(\"Child_Male_delta_Features.csv\")"
   ]
  },
  {
   "cell_type": "code",
   "execution_count": 39,
   "id": "e12be009",
   "metadata": {},
   "outputs": [],
   "source": [
    "# Directory path containing the audio files\n",
    "directory = 'C:/Users/LOKESH PAPPU/Desktop/NITW/day 11/Mozilla Dataset Adult/Female/'\n",
    "# Initialize a list to store the features\n",
    "features_list = []\n",
    "# Iterate over the files in the directory\n",
    "for filename in os.listdir(directory):\n",
    "    if filename.endswith('.mp3'):\n",
    "        # Load the audio signal\n",
    "        audio_path = os.path.join(directory, filename)\n",
    "        signal, sr = librosa.load(audio_path, sr=None)\n",
    "\n",
    "        # Extract MFCC features\n",
    "        mfccs = np.mean(librosa.feature.mfcc(y=signal, sr=sr, n_mfcc=13).T,axis=0)\n",
    "\n",
    "        # Calculate delta features from MFCCs\n",
    "        delta_mfccs = librosa.feature.delta(mfccs)\n",
    "\n",
    "        # Calculate double delta features from MFCCs\n",
    "        double_delta_mfccs = librosa.feature.delta(mfccs, order=2)\n",
    "\n",
    "       \n",
    "\n",
    "        # Concatenate the renamed features\n",
    "        features = np.concatenate((mfccs, delta_mfccs, double_delta_mfccs),axis=0)\n",
    "        # Append the features to the list\n",
    "        features_list.append(features)\n",
    "import pandas as pd\n",
    "df=pd.DataFrame(features_list)\n",
    "df[\"gender\"]=\"female\"\n",
    "df[\"label\"]=\"adult\"\n",
    "df.to_csv(\"Adult_Female_delta_Features.csv\")\n"
   ]
  },
  {
   "cell_type": "code",
   "execution_count": 40,
   "id": "4bf8b629",
   "metadata": {},
   "outputs": [],
   "source": [
    "# Directory path containing the audio files\n",
    "directory = 'C:/Users/LOKESH PAPPU/Desktop/NITW/day 11/Mozilla Dataset Adult/Male/'\n",
    "# Initialize a list to store the features\n",
    "features_list = []\n",
    "# Iterate over the files in the directory\n",
    "for filename in os.listdir(directory):\n",
    "    if filename.endswith('.mp3'):\n",
    "        # Load the audio signal\n",
    "        audio_path = os.path.join(directory, filename)\n",
    "        signal, sr = librosa.load(audio_path, sr=None)\n",
    "\n",
    "        # Extract MFCC features\n",
    "        mfccs = np.mean(librosa.feature.mfcc(y=signal, sr=sr, n_mfcc=13).T,axis=0)\n",
    "\n",
    "        # Calculate delta features from MFCCs\n",
    "        delta_mfccs = librosa.feature.delta(mfccs)\n",
    "\n",
    "        # Calculate double delta features from MFCCs\n",
    "        double_delta_mfccs = librosa.feature.delta(mfccs, order=2)\n",
    "\n",
    "       \n",
    "\n",
    "        # Concatenate the renamed features\n",
    "        features = np.concatenate((mfccs, delta_mfccs, double_delta_mfccs),axis=0)\n",
    "        # Append the features to the list\n",
    "        features_list.append(features)\n",
    "import pandas as pd\n",
    "df=pd.DataFrame(features_list)\n",
    "df[\"gender\"]=\"male\"\n",
    "df[\"label\"]=\"adult\"\n",
    "df.to_csv(\"Adult_Male_delta_Features.csv\")\n"
   ]
  },
  {
   "cell_type": "code",
   "execution_count": null,
   "id": "68feb892",
   "metadata": {},
   "outputs": [],
   "source": []
  }
 ],
 "metadata": {
  "kernelspec": {
   "display_name": "Python 3",
   "language": "python",
   "name": "python3"
  },
  "language_info": {
   "codemirror_mode": {
    "name": "ipython",
    "version": 3
   },
   "file_extension": ".py",
   "mimetype": "text/x-python",
   "name": "python",
   "nbconvert_exporter": "python",
   "pygments_lexer": "ipython3",
   "version": "3.8.8"
  }
 },
 "nbformat": 4,
 "nbformat_minor": 5
}
